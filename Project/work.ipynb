{
 "cells": [
  {
   "cell_type": "code",
   "execution_count": null,
   "source": [
    "http://www.strava.com/oauth/authorize?client_id=71602&response_type=code&redirect_uri=http://localhost/exchange_token&approval_prompt=force&scope=activity:read_all\n",
    "http://localhost/exchange_token?state=&code=16c111a63327f9436e36685a7fc2217418dcf704&scope=read,activity:read_all"
   ],
   "outputs": [],
   "metadata": {}
  },
  {
   "cell_type": "markdown",
   "source": [],
   "metadata": {}
  }
 ],
 "metadata": {
  "orig_nbformat": 4,
  "language_info": {
   "name": "python",
   "version": "3.9.4",
   "mimetype": "text/x-python",
   "codemirror_mode": {
    "name": "ipython",
    "version": 3
   },
   "pygments_lexer": "ipython3",
   "nbconvert_exporter": "python",
   "file_extension": ".py"
  },
  "kernelspec": {
   "name": "python3",
   "display_name": "Python 3.9.4 64-bit ('p39jupyter': conda)"
  },
  "interpreter": {
   "hash": "3202d07c09f709083ea3a6049cfd402c61f3ff8ebcefab77ffb77a13fcaaca54"
  }
 },
 "nbformat": 4,
 "nbformat_minor": 2
}