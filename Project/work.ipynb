{
 "cells": [
  {
   "cell_type": "code",
   "execution_count": 10,
   "source": [
    "http://www.strava.com/oauth/authorize?client_id=71602&response_type=code&redirect_uri=http://localhost/exchange_token&approval_prompt=force&scope=activity:read_all\n",
    "http://localhost/exchange_token?state=&code=16c111a63327f9436e36685a7fc2217418dcf704&scope=read,activity:read_all"
   ],
   "outputs": [
    {
     "output_type": "error",
     "ename": "SyntaxError",
     "evalue": "invalid syntax (<ipython-input-10-da28ed47dc29>, line 1)",
     "traceback": [
      "\u001b[0;36m  File \u001b[0;32m\"<ipython-input-10-da28ed47dc29>\"\u001b[0;36m, line \u001b[0;32m1\u001b[0m\n\u001b[0;31m    http://www.strava.com/oauth/authorize?client_id=71602&response_type=code&redirect_uri=http://localhost/exchange_token&approval_prompt=force&scope=activity:read_all\u001b[0m\n\u001b[0m         ^\u001b[0m\n\u001b[0;31mSyntaxError\u001b[0m\u001b[0;31m:\u001b[0m invalid syntax\n"
     ]
    }
   ],
   "metadata": {}
  },
  {
   "cell_type": "code",
   "execution_count": 8,
   "source": [
    "import json"
   ],
   "outputs": [],
   "metadata": {}
  },
  {
   "cell_type": "code",
   "execution_count": 14,
   "source": [
    "a = '''[\n",
    "        {\n",
    "            \"resource_state\": false,\n",
    "            \"athlete\": {\n",
    "                \"id\": 1966015,\n",
    "                \"resource_state\": 1\n",
    "            }\n",
    "        }\n",
    "]'''\n"
   ],
   "outputs": [],
   "metadata": {}
  },
  {
   "cell_type": "code",
   "execution_count": 68,
   "source": [
    "data = '''[\n",
    "        {\n",
    "            \"resource_state\": 2,\n",
    "            \"athlete\": {\n",
    "                \"id\": 1966015,\n",
    "                \"resource_state\": 1\n",
    "            },\n",
    "            \"name\": \"Ночная ходьба\",\n",
    "            \"distance\": 6556.8,\n",
    "            \"moving_time\": 3971,\n",
    "            \"elapsed_time\": 4210,\n",
    "            \"total_elevation_gain\": 18.5,\n",
    "            \"type\": \"Walk\",\n",
    "            \"id\": 6008219662,\n",
    "            \"external_id\": \"344e7928-22ea-42ed-8909-8e1bb8d56aa5-activity.fit\",\n",
    "            \"upload_id\": 6385923558,\n",
    "            \"start_date\": \"2021-09-23T18:20:07Z\",\n",
    "            \"start_date_local\": \"2021-09-23T21:20:07Z\",\n",
    "            \"timezone\": \"(GMT+02:00) Europe/Kiev\",\n",
    "            \"utc_offset\": 10800,\n",
    "            \"start_latlng\": [\n",
    "                    50.52032,\n",
    "                    30.510171\n",
    "            ],\n",
    "            \"end_latlng\": [\n",
    "                50.520219,\n",
    "                30.510893\n",
    "            ],\n",
    "            \"location_city\": null,\n",
    "            \"location_state\": null,\n",
    "            \"location_country\": \"Украина\",\n",
    "            \"start_latitude\": 50.52032,\n",
    "            \"start_longitude\": 30.510893,\n",
    "            \"achievement_count\": 0,\n",
    "            \"kudos_count\": 0,\n",
    "            \"comment_count\": 0,\n",
    "            \"athlete_count\": 1,\n",
    "            \"photo_count\": 0,\n",
    "            \"map\": {\n",
    "                \"id\": \"a6008219662\",\n",
    "                \"resource_state\": 2\n",
    "            }\n",
    "    }\n",
    "    ]'''"
   ],
   "outputs": [],
   "metadata": {}
  },
  {
   "cell_type": "code",
   "execution_count": 71,
   "source": [
    "json.loads(data)"
   ],
   "outputs": [
    {
     "output_type": "execute_result",
     "data": {
      "text/plain": [
       "[{'resource_state': 2,\n",
       "  'athlete': {'id': 1966015, 'resource_state': 1},\n",
       "  'name': 'Ночная ходьба',\n",
       "  'distance': 6556.8,\n",
       "  'moving_time': 3971,\n",
       "  'elapsed_time': 4210,\n",
       "  'total_elevation_gain': 18.5,\n",
       "  'type': 'Walk',\n",
       "  'id': 6008219662,\n",
       "  'external_id': '344e7928-22ea-42ed-8909-8e1bb8d56aa5-activity.fit',\n",
       "  'upload_id': 6385923558,\n",
       "  'start_date': '2021-09-23T18:20:07Z',\n",
       "  'start_date_local': '2021-09-23T21:20:07Z',\n",
       "  'timezone': '(GMT+02:00) Europe/Kiev',\n",
       "  'utc_offset': 10800,\n",
       "  'start_latlng': [50.52032, 30.510171],\n",
       "  'end_latlng': [50.520219, 30.510893],\n",
       "  'location_city': None,\n",
       "  'location_state': None,\n",
       "  'location_country': 'Украина',\n",
       "  'start_latitude': 50.52032,\n",
       "  'start_longitude': 30.510893,\n",
       "  'achievement_count': 0,\n",
       "  'kudos_count': 0,\n",
       "  'comment_count': 0,\n",
       "  'athlete_count': 1,\n",
       "  'photo_count': 0,\n",
       "  'map': {'id': 'a6008219662', 'resource_state': 2}}]"
      ]
     },
     "metadata": {},
     "execution_count": 71
    }
   ],
   "metadata": {}
  },
  {
   "cell_type": "code",
   "execution_count": 2,
   "source": [
    "a = []\n",
    "if not a:\n",
    "    a"
   ],
   "outputs": [],
   "metadata": {}
  },
  {
   "cell_type": "code",
   "execution_count": 3,
   "source": [
    "a = '2021-09-23T18:20:07Z'\n"
   ],
   "outputs": [],
   "metadata": {}
  },
  {
   "cell_type": "code",
   "execution_count": 4,
   "source": [
    "a"
   ],
   "outputs": [
    {
     "output_type": "execute_result",
     "data": {
      "text/plain": [
       "'2021-09-23T18:20:07Z'"
      ]
     },
     "metadata": {},
     "execution_count": 4
    }
   ],
   "metadata": {}
  },
  {
   "cell_type": "code",
   "execution_count": 6,
   "source": [
    "a[:-2]"
   ],
   "outputs": [
    {
     "output_type": "execute_result",
     "data": {
      "text/plain": [
       "'2021-09-23T18:20:0'"
      ]
     },
     "metadata": {},
     "execution_count": 6
    }
   ],
   "metadata": {}
  },
  {
   "cell_type": "code",
   "execution_count": 9,
   "source": [
    "a = [1,2,3]\n",
    "[*a, 5,6]\n",
    "[a,5,6]"
   ],
   "outputs": [
    {
     "output_type": "execute_result",
     "data": {
      "text/plain": [
       "[[1, 2, 3], 5, 6]"
      ]
     },
     "metadata": {},
     "execution_count": 9
    }
   ],
   "metadata": {}
  },
  {
   "cell_type": "code",
   "execution_count": 11,
   "source": [
    "from dataclasses import dataclass\n",
    "@dataclass\n",
    "class Activities:\n",
    "    activity_type: str\n",
    "    distance: float\n",
    "    moving_time: int\n",
    "    total_time:int\n",
    "    date: str\n",
    "    is_private: bool\n",
    "    average_speed: float\n",
    "    max_speed: float\n"
   ],
   "outputs": [],
   "metadata": {}
  },
  {
   "cell_type": "code",
   "execution_count": 19,
   "source": [
    "a = [Activities(\"Walk\", 6556.8, 3971, 4210, \"2021-09-23T18:20:0\",\n",
    "                       True, 1.598, 8.9),\n",
    "     Activities(\"Ride\", 6556.8, 3971, 4210, \"2021-09-23T18:20:0\",\n",
    "                       True, 1.598, 8.9)\n",
    "     ]\n"
   ],
   "outputs": [],
   "metadata": {}
  },
  {
   "cell_type": "code",
   "execution_count": 13,
   "source": [
    "import pandas as pd"
   ],
   "outputs": [],
   "metadata": {}
  },
  {
   "cell_type": "code",
   "execution_count": 20,
   "source": [
    "pd.DataFrame(a)"
   ],
   "outputs": [
    {
     "output_type": "execute_result",
     "data": {
      "text/html": [
       "<div>\n",
       "<style scoped>\n",
       "    .dataframe tbody tr th:only-of-type {\n",
       "        vertical-align: middle;\n",
       "    }\n",
       "\n",
       "    .dataframe tbody tr th {\n",
       "        vertical-align: top;\n",
       "    }\n",
       "\n",
       "    .dataframe thead th {\n",
       "        text-align: right;\n",
       "    }\n",
       "</style>\n",
       "<table border=\"1\" class=\"dataframe\">\n",
       "  <thead>\n",
       "    <tr style=\"text-align: right;\">\n",
       "      <th></th>\n",
       "      <th>activity_type</th>\n",
       "      <th>distance</th>\n",
       "      <th>moving_time</th>\n",
       "      <th>total_time</th>\n",
       "      <th>date</th>\n",
       "      <th>is_private</th>\n",
       "      <th>average_speed</th>\n",
       "      <th>max_speed</th>\n",
       "    </tr>\n",
       "  </thead>\n",
       "  <tbody>\n",
       "    <tr>\n",
       "      <th>0</th>\n",
       "      <td>Walk</td>\n",
       "      <td>6556.8</td>\n",
       "      <td>3971</td>\n",
       "      <td>4210</td>\n",
       "      <td>2021-09-23T18:20:0</td>\n",
       "      <td>True</td>\n",
       "      <td>1.598</td>\n",
       "      <td>8.9</td>\n",
       "    </tr>\n",
       "    <tr>\n",
       "      <th>1</th>\n",
       "      <td>Ride</td>\n",
       "      <td>6556.8</td>\n",
       "      <td>3971</td>\n",
       "      <td>4210</td>\n",
       "      <td>2021-09-23T18:20:0</td>\n",
       "      <td>True</td>\n",
       "      <td>1.598</td>\n",
       "      <td>8.9</td>\n",
       "    </tr>\n",
       "  </tbody>\n",
       "</table>\n",
       "</div>"
      ],
      "text/plain": [
       "  activity_type  distance  moving_time  total_time                date  \\\n",
       "0          Walk    6556.8         3971        4210  2021-09-23T18:20:0   \n",
       "1          Ride    6556.8         3971        4210  2021-09-23T18:20:0   \n",
       "\n",
       "   is_private  average_speed  max_speed  \n",
       "0        True          1.598        8.9  \n",
       "1        True          1.598        8.9  "
      ]
     },
     "metadata": {},
     "execution_count": 20
    }
   ],
   "metadata": {}
  },
  {
   "cell_type": "code",
   "execution_count": 36,
   "source": [
    "person_string = \"\"\"{\n",
    "  \"activity_type\": \"Walk\",\n",
    "  \"distance\": 6556.8,\n",
    "  \"moving_time\": 3971,\n",
    "  \"total_time\": 4210,\n",
    "  \"date\": \"2021-09-23T18:20:0\",\n",
    "  \"is_private\": true,\n",
    "  \"average_speed\": 1.598,\n",
    "  \"max_speed\": 8.9\n",
    "}\"\"\""
   ],
   "outputs": [],
   "metadata": {}
  },
  {
   "cell_type": "code",
   "execution_count": 37,
   "source": [
    "import json\n",
    "aaa = json.loads(person_string)"
   ],
   "outputs": [],
   "metadata": {}
  },
  {
   "cell_type": "code",
   "execution_count": 38,
   "source": [
    "Activities(**aaa)"
   ],
   "outputs": [
    {
     "output_type": "execute_result",
     "data": {
      "text/plain": [
       "Activities(activity_type='Walk', distance=6556.8, moving_time=3971, total_time=4210, date='2021-09-23T18:20:0', is_private=True, average_speed=1.598, max_speed=8.9)"
      ]
     },
     "metadata": {},
     "execution_count": 38
    }
   ],
   "metadata": {}
  },
  {
   "cell_type": "code",
   "execution_count": 31,
   "source": [
    "aaa"
   ],
   "outputs": [
    {
     "output_type": "execute_result",
     "data": {
      "text/plain": [
       "{'name': 'Bob', 'age': 25}"
      ]
     },
     "metadata": {},
     "execution_count": 31
    }
   ],
   "metadata": {}
  },
  {
   "cell_type": "code",
   "execution_count": 35,
   "source": [
    "a[0]"
   ],
   "outputs": [
    {
     "output_type": "execute_result",
     "data": {
      "text/plain": [
       "Activities(activity_type='Walk', distance=6556.8, moving_time=3971, total_time=4210, date='2021-09-23T18:20:0', is_private=True, average_speed=1.598, max_speed=8.9)"
      ]
     },
     "metadata": {},
     "execution_count": 35
    }
   ],
   "metadata": {}
  },
  {
   "cell_type": "code",
   "execution_count": 34,
   "source": [
    "dataclasses.\n"
   ],
   "outputs": [
    {
     "output_type": "error",
     "ename": "TypeError",
     "evalue": "make_dataclass() takes 2 positional arguments but 3 were given",
     "traceback": [
      "\u001b[0;31m---------------------------------------------------------------------------\u001b[0m",
      "\u001b[0;31mTypeError\u001b[0m                                 Traceback (most recent call last)",
      "\u001b[0;32m<ipython-input-34-b64c15c4cbb2>\u001b[0m in \u001b[0;36m<module>\u001b[0;34m\u001b[0m\n\u001b[0;32m----> 1\u001b[0;31m \u001b[0mdataclasses\u001b[0m\u001b[0;34m.\u001b[0m\u001b[0mmake_dataclass\u001b[0m\u001b[0;34m(\u001b[0m\u001b[0maaa\u001b[0m\u001b[0;34m,\u001b[0m \u001b[0;34m*\u001b[0m\u001b[0maaa\u001b[0m\u001b[0;34m)\u001b[0m\u001b[0;34m\u001b[0m\u001b[0;34m\u001b[0m\u001b[0m\n\u001b[0m",
      "\u001b[0;31mTypeError\u001b[0m: make_dataclass() takes 2 positional arguments but 3 were given"
     ]
    }
   ],
   "metadata": {}
  },
  {
   "cell_type": "code",
   "execution_count": 47,
   "source": [
    "a = eval(\"3 == 3\")\n",
    "b = eval(\"3 < 2\")"
   ],
   "outputs": [],
   "metadata": {}
  },
  {
   "cell_type": "code",
   "execution_count": 49,
   "source": [
    "all([a, b])"
   ],
   "outputs": [
    {
     "output_type": "execute_result",
     "data": {
      "text/plain": [
       "False"
      ]
     },
     "metadata": {},
     "execution_count": 49
    }
   ],
   "metadata": {}
  },
  {
   "cell_type": "code",
   "execution_count": null,
   "source": [],
   "outputs": [],
   "metadata": {}
  }
 ],
 "metadata": {
  "orig_nbformat": 4,
  "language_info": {
   "name": "python",
   "version": "3.9.4",
   "mimetype": "text/x-python",
   "codemirror_mode": {
    "name": "ipython",
    "version": 3
   },
   "pygments_lexer": "ipython3",
   "nbconvert_exporter": "python",
   "file_extension": ".py"
  },
  "kernelspec": {
   "name": "python3",
   "display_name": "Python 3.9.4 64-bit ('p39jupyter': conda)"
  },
  "interpreter": {
   "hash": "3202d07c09f709083ea3a6049cfd402c61f3ff8ebcefab77ffb77a13fcaaca54"
  }
 },
 "nbformat": 4,
 "nbformat_minor": 2
}