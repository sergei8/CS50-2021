{
 "cells": [
  {
   "cell_type": "code",
   "execution_count": 10,
   "source": [
    "http://www.strava.com/oauth/authorize?client_id=71602&response_type=code&redirect_uri=http://localhost/exchange_token&approval_prompt=force&scope=activity:read_all\n",
    "http://localhost/exchange_token?state=&code=16c111a63327f9436e36685a7fc2217418dcf704&scope=read,activity:read_all"
   ],
   "outputs": [
    {
     "output_type": "error",
     "ename": "SyntaxError",
     "evalue": "invalid syntax (<ipython-input-10-da28ed47dc29>, line 1)",
     "traceback": [
      "\u001b[0;36m  File \u001b[0;32m\"<ipython-input-10-da28ed47dc29>\"\u001b[0;36m, line \u001b[0;32m1\u001b[0m\n\u001b[0;31m    http://www.strava.com/oauth/authorize?client_id=71602&response_type=code&redirect_uri=http://localhost/exchange_token&approval_prompt=force&scope=activity:read_all\u001b[0m\n\u001b[0m         ^\u001b[0m\n\u001b[0;31mSyntaxError\u001b[0m\u001b[0;31m:\u001b[0m invalid syntax\n"
     ]
    }
   ],
   "metadata": {}
  },
  {
   "cell_type": "code",
   "execution_count": 8,
   "source": [
    "import json"
   ],
   "outputs": [],
   "metadata": {}
  },
  {
   "cell_type": "code",
   "execution_count": 14,
   "source": [
    "a = '''[\n",
    "        {\n",
    "            \"resource_state\": false,\n",
    "            \"athlete\": {\n",
    "                \"id\": 1966015,\n",
    "                \"resource_state\": 1\n",
    "            }\n",
    "        }\n",
    "]'''\n"
   ],
   "outputs": [],
   "metadata": {}
  },
  {
   "cell_type": "code",
   "execution_count": 68,
   "source": [
    "data = '''[\n",
    "        {\n",
    "            \"resource_state\": 2,\n",
    "            \"athlete\": {\n",
    "                \"id\": 1966015,\n",
    "                \"resource_state\": 1\n",
    "            },\n",
    "            \"name\": \"Ночная ходьба\",\n",
    "            \"distance\": 6556.8,\n",
    "            \"moving_time\": 3971,\n",
    "            \"elapsed_time\": 4210,\n",
    "            \"total_elevation_gain\": 18.5,\n",
    "            \"type\": \"Walk\",\n",
    "            \"id\": 6008219662,\n",
    "            \"external_id\": \"344e7928-22ea-42ed-8909-8e1bb8d56aa5-activity.fit\",\n",
    "            \"upload_id\": 6385923558,\n",
    "            \"start_date\": \"2021-09-23T18:20:07Z\",\n",
    "            \"start_date_local\": \"2021-09-23T21:20:07Z\",\n",
    "            \"timezone\": \"(GMT+02:00) Europe/Kiev\",\n",
    "            \"utc_offset\": 10800,\n",
    "            \"start_latlng\": [\n",
    "                    50.52032,\n",
    "                    30.510171\n",
    "            ],\n",
    "            \"end_latlng\": [\n",
    "                50.520219,\n",
    "                30.510893\n",
    "            ],\n",
    "            \"location_city\": null,\n",
    "            \"location_state\": null,\n",
    "            \"location_country\": \"Украина\",\n",
    "            \"start_latitude\": 50.52032,\n",
    "            \"start_longitude\": 30.510893,\n",
    "            \"achievement_count\": 0,\n",
    "            \"kudos_count\": 0,\n",
    "            \"comment_count\": 0,\n",
    "            \"athlete_count\": 1,\n",
    "            \"photo_count\": 0,\n",
    "            \"map\": {\n",
    "                \"id\": \"a6008219662\",\n",
    "                \"resource_state\": 2\n",
    "            }\n",
    "    }\n",
    "    ]'''"
   ],
   "outputs": [],
   "metadata": {}
  },
  {
   "cell_type": "code",
   "execution_count": 71,
   "source": [
    "json.loads(data)"
   ],
   "outputs": [
    {
     "output_type": "execute_result",
     "data": {
      "text/plain": [
       "[{'resource_state': 2,\n",
       "  'athlete': {'id': 1966015, 'resource_state': 1},\n",
       "  'name': 'Ночная ходьба',\n",
       "  'distance': 6556.8,\n",
       "  'moving_time': 3971,\n",
       "  'elapsed_time': 4210,\n",
       "  'total_elevation_gain': 18.5,\n",
       "  'type': 'Walk',\n",
       "  'id': 6008219662,\n",
       "  'external_id': '344e7928-22ea-42ed-8909-8e1bb8d56aa5-activity.fit',\n",
       "  'upload_id': 6385923558,\n",
       "  'start_date': '2021-09-23T18:20:07Z',\n",
       "  'start_date_local': '2021-09-23T21:20:07Z',\n",
       "  'timezone': '(GMT+02:00) Europe/Kiev',\n",
       "  'utc_offset': 10800,\n",
       "  'start_latlng': [50.52032, 30.510171],\n",
       "  'end_latlng': [50.520219, 30.510893],\n",
       "  'location_city': None,\n",
       "  'location_state': None,\n",
       "  'location_country': 'Украина',\n",
       "  'start_latitude': 50.52032,\n",
       "  'start_longitude': 30.510893,\n",
       "  'achievement_count': 0,\n",
       "  'kudos_count': 0,\n",
       "  'comment_count': 0,\n",
       "  'athlete_count': 1,\n",
       "  'photo_count': 0,\n",
       "  'map': {'id': 'a6008219662', 'resource_state': 2}}]"
      ]
     },
     "metadata": {},
     "execution_count": 71
    }
   ],
   "metadata": {}
  },
  {
   "cell_type": "code",
   "execution_count": 2,
   "source": [
    "a = []\n",
    "if not a:\n",
    "    a"
   ],
   "outputs": [],
   "metadata": {}
  },
  {
   "cell_type": "code",
   "execution_count": 3,
   "source": [
    "a = '2021-09-23T18:20:07Z'\n"
   ],
   "outputs": [],
   "metadata": {}
  },
  {
   "cell_type": "code",
   "execution_count": 4,
   "source": [
    "a"
   ],
   "outputs": [
    {
     "output_type": "execute_result",
     "data": {
      "text/plain": [
       "'2021-09-23T18:20:07Z'"
      ]
     },
     "metadata": {},
     "execution_count": 4
    }
   ],
   "metadata": {}
  },
  {
   "cell_type": "code",
   "execution_count": 6,
   "source": [
    "a[:-2]"
   ],
   "outputs": [
    {
     "output_type": "execute_result",
     "data": {
      "text/plain": [
       "'2021-09-23T18:20:0'"
      ]
     },
     "metadata": {},
     "execution_count": 6
    }
   ],
   "metadata": {}
  },
  {
   "cell_type": "code",
   "execution_count": null,
   "source": [],
   "outputs": [],
   "metadata": {}
  }
 ],
 "metadata": {
  "orig_nbformat": 4,
  "language_info": {
   "name": "python",
   "version": "3.9.4",
   "mimetype": "text/x-python",
   "codemirror_mode": {
    "name": "ipython",
    "version": 3
   },
   "pygments_lexer": "ipython3",
   "nbconvert_exporter": "python",
   "file_extension": ".py"
  },
  "kernelspec": {
   "name": "python3",
   "display_name": "Python 3.9.4 64-bit ('p39jupyter': conda)"
  },
  "interpreter": {
   "hash": "3202d07c09f709083ea3a6049cfd402c61f3ff8ebcefab77ffb77a13fcaaca54"
  }
 },
 "nbformat": 4,
 "nbformat_minor": 2
}