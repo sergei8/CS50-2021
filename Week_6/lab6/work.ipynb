{
 "cells": [
  {
   "cell_type": "code",
   "execution_count": 3,
   "metadata": {},
   "outputs": [],
   "source": [
    "import csv"
   ]
  },
  {
   "cell_type": "code",
   "execution_count": 5,
   "metadata": {},
   "outputs": [],
   "source": [
    "r = csv.reader(open(\"2018m.csv\"))"
   ]
  },
  {
   "cell_type": "code",
   "execution_count": 50,
   "metadata": {},
   "outputs": [],
   "source": [
    "l = list(r)"
   ]
  },
  {
   "cell_type": "code",
   "execution_count": 56,
   "metadata": {},
   "outputs": [],
   "source": [
    "a = [1,2,3,4]"
   ]
  },
  {
   "cell_type": "code",
   "execution_count": 58,
   "metadata": {},
   "outputs": [
    {
     "data": {
      "text/plain": [
       "{'a': 1, 'b': 2}"
      ]
     },
     "execution_count": 58,
     "metadata": {},
     "output_type": "execute_result"
    }
   ],
   "source": [
    "dict(a=1, b=2)"
   ]
  },
  {
   "cell_type": "code",
   "execution_count": 6,
   "metadata": {},
   "outputs": [],
   "source": [
    "dr = csv.DictReader(open(\"2018m.csv\"))"
   ]
  },
  {
   "cell_type": "code",
   "execution_count": 62,
   "metadata": {},
   "outputs": [
    {
     "data": {
      "text/plain": [
       "['team', 'rating']"
      ]
     },
     "execution_count": 62,
     "metadata": {},
     "output_type": "execute_result"
    }
   ],
   "source": [
    "dr.fieldnames"
   ]
  },
  {
   "cell_type": "code",
   "execution_count": 63,
   "metadata": {},
   "outputs": [
    {
     "data": {
      "text/plain": [
       "{'team': 'Uruguay', 'rating': '976'}"
      ]
     },
     "execution_count": 63,
     "metadata": {},
     "output_type": "execute_result"
    }
   ],
   "source": [
    "next(dr)"
   ]
  },
  {
   "cell_type": "code",
   "execution_count": 65,
   "metadata": {},
   "outputs": [
    {
     "data": {
      "text/plain": [
       "<csv.DictReader at 0x7f87ecd24550>"
      ]
     },
     "execution_count": 65,
     "metadata": {},
     "output_type": "execute_result"
    }
   ],
   "source": [
    "dr"
   ]
  },
  {
   "cell_type": "code",
   "execution_count": 66,
   "metadata": {},
   "outputs": [
    {
     "data": {
      "text/plain": [
       "{'team': 'rating'}"
      ]
     },
     "execution_count": 66,
     "metadata": {},
     "output_type": "execute_result"
    }
   ],
   "source": [
    "dict(dr)"
   ]
  },
  {
   "cell_type": "code",
   "execution_count": 72,
   "metadata": {},
   "outputs": [
    {
     "data": {
      "text/plain": [
       "{'team': 'Argentina', 'rating': '1254'}"
      ]
     },
     "execution_count": 72,
     "metadata": {},
     "output_type": "execute_result"
    }
   ],
   "source": [
    "next(dr)"
   ]
  },
  {
   "cell_type": "code",
   "execution_count": 7,
   "metadata": {},
   "outputs": [
    {
     "data": {
      "text/plain": [
       "[{'team': 'Uruguay', 'rating': '976'},\n",
       " {'team': 'Portugal', 'rating': '1306'},\n",
       " {'team': 'France', 'rating': '1166'},\n",
       " {'team': 'Argentina', 'rating': '1254'},\n",
       " {'team': 'Brazil', 'rating': '1384'},\n",
       " {'team': 'Mexico', 'rating': '1008'},\n",
       " {'team': 'Belgium', 'rating': '1346'},\n",
       " {'team': 'Japan', 'rating': '528'},\n",
       " {'team': 'Spain', 'rating': '1162'},\n",
       " {'team': 'Russia', 'rating': '493'},\n",
       " {'team': 'Croatia', 'rating': '975'},\n",
       " {'team': 'Denmark', 'rating': '1054'},\n",
       " {'team': 'Sweden', 'rating': '889'},\n",
       " {'team': 'Switzerland', 'rating': '1179'},\n",
       " {'team': 'Colombia', 'rating': '989'},\n",
       " {'team': 'England', 'rating': '1040'}]"
      ]
     },
     "execution_count": 7,
     "metadata": {},
     "output_type": "execute_result"
    }
   ],
   "source": [
    "teams_list = list(dr)\n",
    "teams_list"
   ]
  },
  {
   "cell_type": "code",
   "execution_count": 12,
   "metadata": {},
   "outputs": [
    {
     "data": {
      "text/plain": [
       "[{'team': 'Uruguay', 'rating': 976},\n",
       " {'team': 'Portugal', 'rating': 1306},\n",
       " {'team': 'France', 'rating': 1166},\n",
       " {'team': 'Argentina', 'rating': 1254},\n",
       " {'team': 'Brazil', 'rating': 1384},\n",
       " {'team': 'Mexico', 'rating': 1008},\n",
       " {'team': 'Belgium', 'rating': 1346},\n",
       " {'team': 'Japan', 'rating': 528},\n",
       " {'team': 'Spain', 'rating': 1162},\n",
       " {'team': 'Russia', 'rating': 493},\n",
       " {'team': 'Croatia', 'rating': 975},\n",
       " {'team': 'Denmark', 'rating': 1054},\n",
       " {'team': 'Sweden', 'rating': 889},\n",
       " {'team': 'Switzerland', 'rating': 1179},\n",
       " {'team': 'Colombia', 'rating': 989},\n",
       " {'team': 'England', 'rating': 1040}]"
      ]
     },
     "execution_count": 12,
     "metadata": {},
     "output_type": "execute_result"
    }
   ],
   "source": [
    "list(map(lambda x: {\"team\": x[\"team\"], \"rating\": int (x[\"rating\"])}, teams_list))"
   ]
  },
  {
   "cell_type": "code",
   "execution_count": null,
   "metadata": {},
   "outputs": [],
   "source": []
  }
 ],
 "metadata": {
  "interpreter": {
   "hash": "3202d07c09f709083ea3a6049cfd402c61f3ff8ebcefab77ffb77a13fcaaca54"
  },
  "kernelspec": {
   "display_name": "Python 3.9.4 64-bit ('p39jupyter': conda)",
   "name": "python3"
  },
  "language_info": {
   "codemirror_mode": {
    "name": "ipython",
    "version": 3
   },
   "file_extension": ".py",
   "mimetype": "text/x-python",
   "name": "python",
   "nbconvert_exporter": "python",
   "pygments_lexer": "ipython3",
   "version": "3.9.4"
  },
  "orig_nbformat": 4
 },
 "nbformat": 4,
 "nbformat_minor": 2
}